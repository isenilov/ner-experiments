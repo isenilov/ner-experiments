{
 "cells": [
  {
   "cell_type": "code",
   "execution_count": 2,
   "metadata": {},
   "outputs": [],
   "source": [
    "import en_core_web_lg\n",
    "import spacy\n",
    "nlp = en_core_web_lg.load()"
   ]
  },
  {
   "cell_type": "code",
   "execution_count": 15,
   "metadata": {},
   "outputs": [
    {
     "name": "stdout",
     "output_type": "stream",
     "text": [
      "[('30x10x20 cm', 'PRODUCT', 'Objects, vehicles, foods, etc. (not services)'), ('30 kg', 'QUANTITY', 'Measurements, as of weight or distance')]\n"
     ]
    }
   ],
   "source": [
    "doc = nlp(u\"The dimensions of this package are 30x10x20 cm whereas the weight is 30 kg.\")\n",
    "print([(w.text, w.label_, spacy.explain(w.label_)) for w in doc.ents])"
   ]
  },
  {
   "cell_type": "code",
   "execution_count": null,
   "metadata": {},
   "outputs": [],
   "source": []
  }
 ],
 "metadata": {
  "kernelspec": {
   "display_name": "Python 3",
   "language": "python",
   "name": "python3"
  },
  "language_info": {
   "codemirror_mode": {
    "name": "ipython",
    "version": 3
   },
   "file_extension": ".py",
   "mimetype": "text/x-python",
   "name": "python",
   "nbconvert_exporter": "python",
   "pygments_lexer": "ipython3",
   "version": "3.6.3"
  }
 },
 "nbformat": 4,
 "nbformat_minor": 2
}
