{
 "cells": [
  {
   "cell_type": "code",
   "execution_count": 3,
   "metadata": {},
   "outputs": [
    {
     "name": "stderr",
     "output_type": "stream",
     "text": [
      "2018-03-22 11:07:30.394 INFO in 'deeppavlov.core.data.utils'['utils'] at line 116: Extracting /home/isenilov/DeepPavlov/download/home/isenilov/ner-experiments/data/conll2003.tar.gz archive into /home/isenilov/DeepPavlov/download/home/isenilov/ner-experiments/data\n",
      "2018-03-22 11:07:30.397 DEBUG in 'urllib3.connectionpool'['connectionpool'] at line 208: Starting new HTTP connection (1): lnsigo.mipt.ru\n",
      "2018-03-22 11:07:30.725 DEBUG in 'urllib3.connectionpool'['connectionpool'] at line 396: http://lnsigo.mipt.ru:80 \"GET /export/datasets/conll2003.tar.gz HTTP/1.1\" 200 765327\n",
      "2018-03-22 11:07:30.727 INFO in 'deeppavlov.core.data.utils'['utils'] at line 52: Downloading from http://lnsigo.mipt.ru/export/datasets/conll2003.tar.gz to /home/isenilov/DeepPavlov/download/home/isenilov/ner-experiments/data/conll2003.tar.gz\n",
      "100%|██████████| 765k/765k [00:00<00:00, 834kB/s] \n",
      "2018-03-22 11:07:32.150 INFO in 'deeppavlov.core.data.vocab'['vocab'] at line 158: [loading vocabulary from /home/isenilov/DeepPavlov/download/ner_conll2003_model/word.dict]\n",
      "2018-03-22 11:07:32.391 INFO in 'deeppavlov.core.data.vocab'['vocab'] at line 146: [saving vocabulary to /home/isenilov/DeepPavlov/download/ner_conll2003_model/word.dict]\n",
      "2018-03-22 11:07:32.419 INFO in 'deeppavlov.core.data.vocab'['vocab'] at line 158: [loading vocabulary from /home/isenilov/DeepPavlov/download/ner_conll2003_model/tag.dict]\n",
      "2018-03-22 11:07:32.554 INFO in 'deeppavlov.core.data.vocab'['vocab'] at line 146: [saving vocabulary to /home/isenilov/DeepPavlov/download/ner_conll2003_model/tag.dict]\n",
      "2018-03-22 11:07:32.556 INFO in 'deeppavlov.core.data.vocab'['vocab'] at line 158: [loading vocabulary from /home/isenilov/DeepPavlov/download/ner_conll2003_model/char.dict]\n",
      "2018-03-22 11:07:33.40 INFO in 'deeppavlov.core.data.vocab'['vocab'] at line 146: [saving vocabulary to /home/isenilov/DeepPavlov/download/ner_conll2003_model/char.dict]\n",
      "/home/isenilov/miniconda3/lib/python3.6/site-packages/tensorflow/python/ops/gradients_impl.py:98: UserWarning: Converting sparse IndexedSlices to a dense Tensor of unknown shape. This may consume a large amount of memory.\n",
      "  \"Converting sparse IndexedSlices to a dense Tensor of unknown shape. \"\n",
      "2018-03-22 11:07:34.831 INFO in 'deeppavlov.core.models.tf_model'['tf_model'] at line 40: [loading model from /home/isenilov/DeepPavlov/download/ner_conll2003_model/ner_model]\n"
     ]
    },
    {
     "name": "stdout",
     "output_type": "stream",
     "text": [
      "INFO:tensorflow:Restoring parameters from /home/isenilov/DeepPavlov/download/ner_conll2003_model/ner_model\n"
     ]
    },
    {
     "name": "stderr",
     "output_type": "stream",
     "text": [
      "2018-03-22 11:07:34.847 INFO in 'tensorflow'['tf_logging'] at line 116: Restoring parameters from /home/isenilov/DeepPavlov/download/ner_conll2003_model/ner_model\n"
     ]
    },
    {
     "name": "stdout",
     "output_type": "stream",
     "text": [
      "{\"train\": {\"epochs_done\": 1, \"batches_seen\": 220, \"examples_seen\": 14041, \"metrics\": {\"ner_f1\": 68.92972120628107}, \"time_spent\": \"0:03:09\"}}\n",
      "{\"train\": {\"epochs_done\": 2, \"batches_seen\": 440, \"examples_seen\": 28082, \"metrics\": {\"ner_f1\": 88.8109495295124}, \"time_spent\": \"0:06:12\"}}\n",
      "{\"train\": {\"epochs_done\": 3, \"batches_seen\": 660, \"examples_seen\": 42123, \"metrics\": {\"ner_f1\": 93.67443639377005}, \"time_spent\": \"0:09:16\"}}\n",
      "{\"train\": {\"epochs_done\": 4, \"batches_seen\": 880, \"examples_seen\": 56164, \"metrics\": {\"ner_f1\": 96.36638105160206}, \"time_spent\": \"0:12:20\"}}\n",
      "{\"train\": {\"epochs_done\": 5, \"batches_seen\": 1100, \"examples_seen\": 70205, \"metrics\": {\"ner_f1\": 97.57841426565095}, \"time_spent\": \"0:15:21\"}}\n"
     ]
    },
    {
     "name": "stderr",
     "output_type": "stream",
     "text": [
      "2018-03-22 11:23:03.198 INFO in 'deeppavlov.core.commands.train'['train'] at line 253: New best ner_f1 of 88.22009170487703\n",
      "2018-03-22 11:23:03.199 INFO in 'deeppavlov.core.commands.train'['train'] at line 255: Saving model\n",
      "2018-03-22 11:23:03.200 INFO in 'deeppavlov.core.models.tf_model'['tf_model'] at line 49: [saving model to /home/isenilov/DeepPavlov/download/ner_conll2003_model/ner_model]\n"
     ]
    },
    {
     "name": "stdout",
     "output_type": "stream",
     "text": [
      "{\"valid\": {\"examples_seen\": 3250, \"metrics\": {\"ner_f1\": 88.22009170487703}, \"time_spent\": \"0:15:28\", \"impatience\": 0, \"patience_limit\": 5}}\n",
      "{\"train\": {\"epochs_done\": 6, \"batches_seen\": 1320, \"examples_seen\": 84246, \"metrics\": {\"ner_f1\": 98.37992037979265}, \"time_spent\": \"0:18:34\"}}\n",
      "{\"train\": {\"epochs_done\": 7, \"batches_seen\": 1540, \"examples_seen\": 98287, \"metrics\": {\"ner_f1\": 99.02958076186422}, \"time_spent\": \"0:21:36\"}}\n",
      "{\"train\": {\"epochs_done\": 8, \"batches_seen\": 1760, \"examples_seen\": 112328, \"metrics\": {\"ner_f1\": 99.35082902326371}, \"time_spent\": \"0:24:32\"}}\n",
      "{\"train\": {\"epochs_done\": 9, \"batches_seen\": 1980, \"examples_seen\": 126369, \"metrics\": {\"ner_f1\": 99.55945261455298}, \"time_spent\": \"0:27:29\"}}\n",
      "{\"train\": {\"epochs_done\": 10, \"batches_seen\": 2200, \"examples_seen\": 140410, \"metrics\": {\"ner_f1\": 99.63616247154195}, \"time_spent\": \"0:30:26\"}}\n"
     ]
    },
    {
     "name": "stderr",
     "output_type": "stream",
     "text": [
      "2018-03-22 11:38:06.641 INFO in 'deeppavlov.core.commands.train'['train'] at line 253: New best ner_f1 of 88.81113055069565\n",
      "2018-03-22 11:38:06.642 INFO in 'deeppavlov.core.commands.train'['train'] at line 255: Saving model\n",
      "2018-03-22 11:38:06.643 INFO in 'deeppavlov.core.models.tf_model'['tf_model'] at line 49: [saving model to /home/isenilov/DeepPavlov/download/ner_conll2003_model/ner_model]\n"
     ]
    },
    {
     "name": "stdout",
     "output_type": "stream",
     "text": [
      "{\"valid\": {\"examples_seen\": 3250, \"metrics\": {\"ner_f1\": 88.81113055069565}, \"time_spent\": \"0:30:32\", \"impatience\": 0, \"patience_limit\": 5}}\n",
      "{\"train\": {\"epochs_done\": 11, \"batches_seen\": 2420, \"examples_seen\": 154451, \"metrics\": {\"ner_f1\": 99.78937514626726}, \"time_spent\": \"0:33:27\"}}\n",
      "{\"train\": {\"epochs_done\": 12, \"batches_seen\": 2640, \"examples_seen\": 168492, \"metrics\": {\"ner_f1\": 99.82337043263604}, \"time_spent\": \"0:36:24\"}}\n",
      "{\"train\": {\"epochs_done\": 13, \"batches_seen\": 2860, \"examples_seen\": 182533, \"metrics\": {\"ner_f1\": 99.84040176196454}, \"time_spent\": \"0:39:20\"}}\n",
      "{\"train\": {\"epochs_done\": 14, \"batches_seen\": 3080, \"examples_seen\": 196574, \"metrics\": {\"ner_f1\": 99.88934757628633}, \"time_spent\": \"0:42:16\"}}\n",
      "{\"train\": {\"epochs_done\": 15, \"batches_seen\": 3300, \"examples_seen\": 210615, \"metrics\": {\"ner_f1\": 99.89999361661383}, \"time_spent\": \"0:45:13\"}}\n"
     ]
    },
    {
     "name": "stderr",
     "output_type": "stream",
     "text": [
      "2018-03-22 11:52:55.239 INFO in 'deeppavlov.core.commands.train'['train'] at line 253: New best ner_f1 of 89.18126204642589\n",
      "2018-03-22 11:52:55.240 INFO in 'deeppavlov.core.commands.train'['train'] at line 255: Saving model\n",
      "2018-03-22 11:52:55.241 INFO in 'deeppavlov.core.models.tf_model'['tf_model'] at line 49: [saving model to /home/isenilov/DeepPavlov/download/ner_conll2003_model/ner_model]\n"
     ]
    },
    {
     "name": "stdout",
     "output_type": "stream",
     "text": [
      "{\"valid\": {\"examples_seen\": 3250, \"metrics\": {\"ner_f1\": 89.18126204642589}, \"time_spent\": \"0:45:20\", \"impatience\": 0, \"patience_limit\": 5}}\n",
      "{\"train\": {\"epochs_done\": 16, \"batches_seen\": 3520, \"examples_seen\": 224656, \"metrics\": {\"ner_f1\": 99.92126822002339}, \"time_spent\": \"0:48:17\"}}\n",
      "{\"train\": {\"epochs_done\": 17, \"batches_seen\": 3740, \"examples_seen\": 238697, \"metrics\": {\"ner_f1\": 99.92553033043257}, \"time_spent\": \"0:51:17\"}}\n",
      "{\"train\": {\"epochs_done\": 18, \"batches_seen\": 3960, \"examples_seen\": 252738, \"metrics\": {\"ner_f1\": 99.94680737888042}, \"time_spent\": \"0:54:13\"}}\n",
      "{\"train\": {\"epochs_done\": 19, \"batches_seen\": 4180, \"examples_seen\": 266779, \"metrics\": {\"ner_f1\": 99.95106070600252}, \"time_spent\": \"0:57:12\"}}\n",
      "{\"train\": {\"epochs_done\": 20, \"batches_seen\": 4400, \"examples_seen\": 280820, \"metrics\": {\"ner_f1\": 99.9595736079491}, \"time_spent\": \"1:00:10\"}}\n"
     ]
    },
    {
     "name": "stderr",
     "output_type": "stream",
     "text": [
      "2018-03-22 12:07:51.550 INFO in 'deeppavlov.core.commands.train'['train'] at line 260: Did not improve on the ner_f1 of 89.18126204642589\n"
     ]
    },
    {
     "name": "stdout",
     "output_type": "stream",
     "text": [
      "{\"valid\": {\"examples_seen\": 3250, \"metrics\": {\"ner_f1\": 88.80186635560739}, \"time_spent\": \"1:00:17\", \"impatience\": 1, \"patience_limit\": 5}}\n",
      "{\"train\": {\"epochs_done\": 21, \"batches_seen\": 4620, \"examples_seen\": 294861, \"metrics\": {\"ner_f1\": 99.9553162967849}, \"time_spent\": \"1:03:13\"}}\n",
      "{\"train\": {\"epochs_done\": 22, \"batches_seen\": 4840, \"examples_seen\": 308902, \"metrics\": {\"ner_f1\": 99.9553162967849}, \"time_spent\": \"1:06:09\"}}\n",
      "{\"train\": {\"epochs_done\": 23, \"batches_seen\": 5060, \"examples_seen\": 322943, \"metrics\": {\"ner_f1\": 99.95106070600252}, \"time_spent\": \"1:09:06\"}}\n",
      "{\"train\": {\"epochs_done\": 24, \"batches_seen\": 5280, \"examples_seen\": 336984, \"metrics\": {\"ner_f1\": 99.97021149836164}, \"time_spent\": \"1:12:06\"}}\n",
      "{\"train\": {\"epochs_done\": 25, \"batches_seen\": 5500, \"examples_seen\": 351025, \"metrics\": {\"ner_f1\": 99.9595718875673}, \"time_spent\": \"1:15:05\"}}\n"
     ]
    },
    {
     "name": "stderr",
     "output_type": "stream",
     "text": [
      "2018-03-22 12:22:45.776 INFO in 'deeppavlov.core.commands.train'['train'] at line 260: Did not improve on the ner_f1 of 89.18126204642589\n"
     ]
    },
    {
     "name": "stdout",
     "output_type": "stream",
     "text": [
      "{\"valid\": {\"examples_seen\": 3250, \"metrics\": {\"ner_f1\": 89.13406887328654}, \"time_spent\": \"1:15:11\", \"impatience\": 2, \"patience_limit\": 5}}\n",
      "{\"train\": {\"epochs_done\": 26, \"batches_seen\": 5720, \"examples_seen\": 365066, \"metrics\": {\"ner_f1\": 99.97021023065793}, \"time_spent\": \"1:18:10\"}}\n",
      "{\"train\": {\"epochs_done\": 27, \"batches_seen\": 5940, \"examples_seen\": 379107, \"metrics\": {\"ner_f1\": 99.96595599812758}, \"time_spent\": \"1:21:08\"}}\n",
      "{\"train\": {\"epochs_done\": 28, \"batches_seen\": 6160, \"examples_seen\": 393148, \"metrics\": {\"ner_f1\": 99.96382901763867}, \"time_spent\": \"1:24:04\"}}\n",
      "{\"train\": {\"epochs_done\": 29, \"batches_seen\": 6380, \"examples_seen\": 407189, \"metrics\": {\"ner_f1\": 99.96170375728693}, \"time_spent\": \"1:27:04\"}}\n",
      "{\"train\": {\"epochs_done\": 30, \"batches_seen\": 6600, \"examples_seen\": 421230, \"metrics\": {\"ner_f1\": 99.97659325460154}, \"time_spent\": \"1:30:05\"}}\n"
     ]
    },
    {
     "name": "stderr",
     "output_type": "stream",
     "text": [
      "2018-03-22 12:37:46.829 INFO in 'deeppavlov.core.commands.train'['train'] at line 260: Did not improve on the ner_f1 of 89.18126204642589\n"
     ]
    },
    {
     "name": "stdout",
     "output_type": "stream",
     "text": [
      "{\"valid\": {\"examples_seen\": 3250, \"metrics\": {\"ner_f1\": 88.74937217478654}, \"time_spent\": \"1:30:12\", \"impatience\": 3, \"patience_limit\": 5}}\n",
      "{\"train\": {\"epochs_done\": 31, \"batches_seen\": 6820, \"examples_seen\": 435271, \"metrics\": {\"ner_f1\": 99.96382747834969}, \"time_spent\": \"1:33:12\"}}\n",
      "{\"train\": {\"epochs_done\": 32, \"batches_seen\": 7040, \"examples_seen\": 449312, \"metrics\": {\"ner_f1\": 99.9553162967849}, \"time_spent\": \"1:36:10\"}}\n",
      "{\"train\": {\"epochs_done\": 33, \"batches_seen\": 7260, \"examples_seen\": 463353, \"metrics\": {\"ner_f1\": 99.97872249882974}, \"time_spent\": \"1:39:06\"}}\n",
      "{\"train\": {\"epochs_done\": 34, \"batches_seen\": 7480, \"examples_seen\": 477394, \"metrics\": {\"ner_f1\": 99.96595599812758}, \"time_spent\": \"1:42:04\"}}\n",
      "{\"train\": {\"epochs_done\": 35, \"batches_seen\": 7700, \"examples_seen\": 491435, \"metrics\": {\"ner_f1\": 99.96382747834969}, \"time_spent\": \"1:44:59\"}}\n"
     ]
    },
    {
     "name": "stderr",
     "output_type": "stream",
     "text": [
      "2018-03-22 12:52:40.216 INFO in 'deeppavlov.core.commands.train'['train'] at line 260: Did not improve on the ner_f1 of 89.18126204642589\n"
     ]
    },
    {
     "name": "stdout",
     "output_type": "stream",
     "text": [
      "{\"valid\": {\"examples_seen\": 3250, \"metrics\": {\"ner_f1\": 88.97829184477412}, \"time_spent\": \"1:45:05\", \"impatience\": 4, \"patience_limit\": 5}}\n",
      "{\"train\": {\"epochs_done\": 36, \"batches_seen\": 7920, \"examples_seen\": 505476, \"metrics\": {\"ner_f1\": 99.96595454932334}, \"time_spent\": \"1:48:01\"}}\n",
      "{\"train\": {\"epochs_done\": 37, \"batches_seen\": 8140, \"examples_seen\": 519517, \"metrics\": {\"ner_f1\": 99.98084984147924}, \"time_spent\": \"1:50:59\"}}\n",
      "{\"train\": {\"epochs_done\": 38, \"batches_seen\": 8360, \"examples_seen\": 533558, \"metrics\": {\"ner_f1\": 99.97021149836164}, \"time_spent\": \"1:53:57\"}}\n",
      "{\"train\": {\"epochs_done\": 39, \"batches_seen\": 8580, \"examples_seen\": 547599, \"metrics\": {\"ner_f1\": 99.96808442732825}, \"time_spent\": \"1:56:57\"}}\n",
      "{\"train\": {\"epochs_done\": 40, \"batches_seen\": 8800, \"examples_seen\": 561640, \"metrics\": {\"ner_f1\": 99.9680817108203}, \"time_spent\": \"1:59:56\"}}\n"
     ]
    },
    {
     "name": "stderr",
     "output_type": "stream",
     "text": [
      "2018-03-22 13:07:37.606 INFO in 'deeppavlov.core.commands.train'['train'] at line 253: New best ner_f1 of 89.74595455688774\n",
      "2018-03-22 13:07:37.607 INFO in 'deeppavlov.core.commands.train'['train'] at line 255: Saving model\n",
      "2018-03-22 13:07:37.608 INFO in 'deeppavlov.core.models.tf_model'['tf_model'] at line 49: [saving model to /home/isenilov/DeepPavlov/download/ner_conll2003_model/ner_model]\n"
     ]
    },
    {
     "name": "stdout",
     "output_type": "stream",
     "text": [
      "{\"valid\": {\"examples_seen\": 3250, \"metrics\": {\"ner_f1\": 89.74595455688774}, \"time_spent\": \"2:00:03\", \"impatience\": 0, \"patience_limit\": 5}}\n",
      "{\"train\": {\"epochs_done\": 41, \"batches_seen\": 9020, \"examples_seen\": 575681, \"metrics\": {\"ner_f1\": 99.96595599812758}, \"time_spent\": \"2:03:00\"}}\n",
      "{\"train\": {\"epochs_done\": 42, \"batches_seen\": 9240, \"examples_seen\": 589722, \"metrics\": {\"ner_f1\": 99.97872430960383}, \"time_spent\": \"2:06:02\"}}\n",
      "{\"train\": {\"epochs_done\": 43, \"batches_seen\": 9460, \"examples_seen\": 603763, \"metrics\": {\"ner_f1\": 99.96382901763867}, \"time_spent\": \"2:08:59\"}}\n",
      "{\"train\": {\"epochs_done\": 44, \"batches_seen\": 9680, \"examples_seen\": 617804, \"metrics\": {\"ner_f1\": 99.9787215933271}, \"time_spent\": \"2:12:00\"}}\n",
      "{\"train\": {\"epochs_done\": 45, \"batches_seen\": 9900, \"examples_seen\": 631845, \"metrics\": {\"ner_f1\": 99.97872249882974}, \"time_spent\": \"2:15:01\"}}\n"
     ]
    },
    {
     "name": "stderr",
     "output_type": "stream",
     "text": [
      "2018-03-22 13:22:42.891 INFO in 'deeppavlov.core.commands.train'['train'] at line 260: Did not improve on the ner_f1 of 89.74595455688774\n"
     ]
    },
    {
     "name": "stdout",
     "output_type": "stream",
     "text": [
      "{\"valid\": {\"examples_seen\": 3250, \"metrics\": {\"ner_f1\": 89.43691608450466}, \"time_spent\": \"2:15:08\", \"impatience\": 1, \"patience_limit\": 5}}\n",
      "{\"train\": {\"epochs_done\": 46, \"batches_seen\": 10120, \"examples_seen\": 645886, \"metrics\": {\"ner_f1\": 99.98936102304401}, \"time_spent\": \"2:18:05\"}}\n",
      "{\"train\": {\"epochs_done\": 47, \"batches_seen\": 10340, \"examples_seen\": 659927, \"metrics\": {\"ner_f1\": 99.98084984147924}, \"time_spent\": \"2:21:03\"}}\n",
      "{\"train\": {\"epochs_done\": 48, \"batches_seen\": 10560, \"examples_seen\": 673968, \"metrics\": {\"ner_f1\": 99.98510543226162}, \"time_spent\": \"2:24:03\"}}\n",
      "{\"train\": {\"epochs_done\": 49, \"batches_seen\": 10780, \"examples_seen\": 688009, \"metrics\": {\"ner_f1\": 99.9851047983828}, \"time_spent\": \"2:27:00\"}}\n",
      "{\"train\": {\"epochs_done\": 50, \"batches_seen\": 11000, \"examples_seen\": 702050, \"metrics\": {\"ner_f1\": 99.97021023065793}, \"time_spent\": \"2:29:58\"}}\n"
     ]
    },
    {
     "name": "stderr",
     "output_type": "stream",
     "text": [
      "2018-03-22 13:37:39.153 INFO in 'deeppavlov.core.commands.train'['train'] at line 260: Did not improve on the ner_f1 of 89.74595455688774\n"
     ]
    },
    {
     "name": "stdout",
     "output_type": "stream",
     "text": [
      "{\"valid\": {\"examples_seen\": 3250, \"metrics\": {\"ner_f1\": 88.58125681684706}, \"time_spent\": \"2:30:04\", \"impatience\": 2, \"patience_limit\": 5}}\n",
      "{\"train\": {\"epochs_done\": 51, \"batches_seen\": 11220, \"examples_seen\": 716091, \"metrics\": {\"ner_f1\": 99.98297799906379}, \"time_spent\": \"2:33:02\"}}\n",
      "{\"train\": {\"epochs_done\": 52, \"batches_seen\": 11440, \"examples_seen\": 730132, \"metrics\": {\"ner_f1\": 99.97021149836164}, \"time_spent\": \"2:36:00\"}}\n",
      "{\"train\": {\"epochs_done\": 53, \"batches_seen\": 11660, \"examples_seen\": 744173, \"metrics\": {\"ner_f1\": 99.98297799906379}, \"time_spent\": \"2:38:55\"}}\n",
      "{\"train\": {\"epochs_done\": 54, \"batches_seen\": 11880, \"examples_seen\": 758214, \"metrics\": {\"ner_f1\": 99.98297799906379}, \"time_spent\": \"2:41:54\"}}\n",
      "{\"train\": {\"epochs_done\": 55, \"batches_seen\": 12100, \"examples_seen\": 772255, \"metrics\": {\"ner_f1\": 99.98723349929784}, \"time_spent\": \"2:44:50\"}}\n"
     ]
    },
    {
     "name": "stderr",
     "output_type": "stream",
     "text": [
      "2018-03-22 13:52:31.679 INFO in 'deeppavlov.core.commands.train'['train'] at line 260: Did not improve on the ner_f1 of 89.74595455688774\n"
     ]
    },
    {
     "name": "stdout",
     "output_type": "stream",
     "text": [
      "{\"valid\": {\"examples_seen\": 3250, \"metrics\": {\"ner_f1\": 88.83474754263631}, \"time_spent\": \"2:44:57\", \"impatience\": 3, \"patience_limit\": 5}}\n",
      "{\"train\": {\"epochs_done\": 56, \"batches_seen\": 12320, \"examples_seen\": 786296, \"metrics\": {\"ner_f1\": 99.98510543226162}, \"time_spent\": \"2:47:53\"}}\n",
      "{\"train\": {\"epochs_done\": 57, \"batches_seen\": 12540, \"examples_seen\": 800337, \"metrics\": {\"ner_f1\": 99.9787215933271}, \"time_spent\": \"2:50:49\"}}\n",
      "{\"train\": {\"epochs_done\": 58, \"batches_seen\": 12760, \"examples_seen\": 814378, \"metrics\": {\"ner_f1\": 99.98085065639694}, \"time_spent\": \"2:53:45\"}}\n",
      "{\"train\": {\"epochs_done\": 59, \"batches_seen\": 12980, \"examples_seen\": 828419, \"metrics\": {\"ner_f1\": 99.98510543226162}, \"time_spent\": \"2:56:42\"}}\n",
      "{\"train\": {\"epochs_done\": 60, \"batches_seen\": 13200, \"examples_seen\": 842460, \"metrics\": {\"ner_f1\": 99.97659524670738}, \"time_spent\": \"2:59:38\"}}\n"
     ]
    },
    {
     "name": "stderr",
     "output_type": "stream",
     "text": [
      "2018-03-22 14:07:19.182 INFO in 'deeppavlov.core.commands.train'['train'] at line 260: Did not improve on the ner_f1 of 89.74595455688774\n"
     ]
    },
    {
     "name": "stdout",
     "output_type": "stream",
     "text": [
      "{\"valid\": {\"examples_seen\": 3250, \"metrics\": {\"ner_f1\": 88.380696149319}, \"time_spent\": \"2:59:44\", \"impatience\": 4, \"patience_limit\": 5}}\n",
      "{\"train\": {\"epochs_done\": 61, \"batches_seen\": 13420, \"examples_seen\": 856501, \"metrics\": {\"ner_f1\": 99.9680817108203}, \"time_spent\": \"3:02:41\"}}\n",
      "{\"train\": {\"epochs_done\": 62, \"batches_seen\": 13640, \"examples_seen\": 870542, \"metrics\": {\"ner_f1\": 99.98297727466168}, \"time_spent\": \"3:05:38\"}}\n",
      "{\"train\": {\"epochs_done\": 63, \"batches_seen\": 13860, \"examples_seen\": 884583, \"metrics\": {\"ner_f1\": 99.9808490264922}, \"time_spent\": \"3:08:34\"}}\n",
      "{\"train\": {\"epochs_done\": 64, \"batches_seen\": 14080, \"examples_seen\": 898624, \"metrics\": {\"ner_f1\": 99.9744659119925}, \"time_spent\": \"3:11:31\"}}\n",
      "{\"train\": {\"epochs_done\": 65, \"batches_seen\": 14300, \"examples_seen\": 912665, \"metrics\": {\"ner_f1\": 99.98084984147924}, \"time_spent\": \"3:14:29\"}}\n"
     ]
    },
    {
     "name": "stderr",
     "output_type": "stream",
     "text": [
      "2018-03-22 14:22:10.902 INFO in 'deeppavlov.core.commands.train'['train'] at line 260: Did not improve on the ner_f1 of 89.74595455688774\n",
      "2018-03-22 14:22:10.903 INFO in 'deeppavlov.core.commands.train'['train'] at line 270: Ran out of patience\n",
      "2018-03-22 14:22:10.904 INFO in 'deeppavlov.core.data.vocab'['vocab'] at line 158: [loading vocabulary from /home/isenilov/DeepPavlov/download/ner_conll2003_model/word.dict]\n",
      "2018-03-22 14:22:10.947 INFO in 'deeppavlov.core.data.vocab'['vocab'] at line 158: [loading vocabulary from /home/isenilov/DeepPavlov/download/ner_conll2003_model/tag.dict]\n",
      "2018-03-22 14:22:10.949 INFO in 'deeppavlov.core.data.vocab'['vocab'] at line 158: [loading vocabulary from /home/isenilov/DeepPavlov/download/ner_conll2003_model/char.dict]\n"
     ]
    },
    {
     "name": "stdout",
     "output_type": "stream",
     "text": [
      "{\"valid\": {\"examples_seen\": 3250, \"metrics\": {\"ner_f1\": 88.7676292813969}, \"time_spent\": \"3:14:36\", \"impatience\": 5, \"patience_limit\": 5}}\n"
     ]
    },
    {
     "name": "stderr",
     "output_type": "stream",
     "text": [
      "2018-03-22 14:22:12.590 INFO in 'deeppavlov.core.models.tf_model'['tf_model'] at line 40: [loading model from /home/isenilov/DeepPavlov/download/ner_conll2003_model/ner_model]\n"
     ]
    },
    {
     "name": "stdout",
     "output_type": "stream",
     "text": [
      "INFO:tensorflow:Restoring parameters from /home/isenilov/DeepPavlov/download/ner_conll2003_model/ner_model\n"
     ]
    },
    {
     "name": "stderr",
     "output_type": "stream",
     "text": [
      "2018-03-22 14:22:12.604 INFO in 'tensorflow'['tf_logging'] at line 116: Restoring parameters from /home/isenilov/DeepPavlov/download/ner_conll2003_model/ner_model\n",
      "2018-03-22 14:22:12.667 INFO in 'deeppavlov.core.commands.train'['train'] at line 122: Testing the best saved model\n"
     ]
    },
    {
     "name": "stdout",
     "output_type": "stream",
     "text": [
      "{\"valid\": {\"examples_seen\": 3250, \"metrics\": {\"ner_f1\": 88.48709107728533}, \"time_spent\": \"0:00:07\"}}\n"
     ]
    },
    {
     "name": "stderr",
     "output_type": "stream",
     "text": [
      "2018-03-22 14:22:26.295 INFO in 'deeppavlov.core.data.vocab'['vocab'] at line 158: [loading vocabulary from /home/isenilov/DeepPavlov/download/ner_conll2003_model/word.dict]\n",
      "2018-03-22 14:22:26.338 INFO in 'deeppavlov.core.data.vocab'['vocab'] at line 158: [loading vocabulary from /home/isenilov/DeepPavlov/download/ner_conll2003_model/tag.dict]\n",
      "2018-03-22 14:22:26.339 INFO in 'deeppavlov.core.data.vocab'['vocab'] at line 158: [loading vocabulary from /home/isenilov/DeepPavlov/download/ner_conll2003_model/char.dict]\n"
     ]
    },
    {
     "name": "stdout",
     "output_type": "stream",
     "text": [
      "{\"test\": {\"examples_seen\": 3453, \"metrics\": {\"ner_f1\": 81.07538218239324}, \"time_spent\": \"0:00:07\"}}\n"
     ]
    },
    {
     "name": "stderr",
     "output_type": "stream",
     "text": [
      "2018-03-22 14:22:27.725 INFO in 'deeppavlov.core.models.tf_model'['tf_model'] at line 40: [loading model from /home/isenilov/DeepPavlov/download/ner_conll2003_model/ner_model]\n"
     ]
    },
    {
     "name": "stdout",
     "output_type": "stream",
     "text": [
      "INFO:tensorflow:Restoring parameters from /home/isenilov/DeepPavlov/download/ner_conll2003_model/ner_model\n"
     ]
    },
    {
     "name": "stderr",
     "output_type": "stream",
     "text": [
      "2018-03-22 14:22:27.740 INFO in 'tensorflow'['tf_logging'] at line 116: Restoring parameters from /home/isenilov/DeepPavlov/download/ner_conll2003_model/ner_model\n"
     ]
    },
    {
     "name": "stdout",
     "output_type": "stream",
     "text": [
      ":: exit\n"
     ]
    }
   ],
   "source": [
    "from deeppavlov.core.commands.train import train_model_from_config\n",
    "from deeppavlov.core.commands.infer import interact_model\n",
    "PIPELINE_CONFIG_PATH = 'config.json'\n",
    "train_model_from_config(PIPELINE_CONFIG_PATH)\n",
    "interact_model(PIPELINE_CONFIG_PATH)"
   ]
  },
  {
   "cell_type": "code",
   "execution_count": null,
   "metadata": {},
   "outputs": [],
   "source": []
  }
 ],
 "metadata": {
  "kernelspec": {
   "display_name": "Python 3",
   "language": "python",
   "name": "python3"
  },
  "language_info": {
   "codemirror_mode": {
    "name": "ipython",
    "version": 3
   },
   "file_extension": ".py",
   "mimetype": "text/x-python",
   "name": "python",
   "nbconvert_exporter": "python",
   "pygments_lexer": "ipython3",
   "version": "3.6.4"
  }
 },
 "nbformat": 4,
 "nbformat_minor": 2
}
