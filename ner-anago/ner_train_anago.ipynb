{
 "cells": [
  {
   "cell_type": "code",
   "execution_count": 1,
   "metadata": {},
   "outputs": [
    {
     "name": "stderr",
     "output_type": "stream",
     "text": [
      "/home/isenilov/miniconda3/lib/python3.6/site-packages/h5py/__init__.py:36: FutureWarning: Conversion of the second argument of issubdtype from `float` to `np.floating` is deprecated. In future, it will be treated as `np.float64 == np.dtype(float).type`.\n",
      "  from ._conv import register_converters as _register_converters\n",
      "Using TensorFlow backend.\n"
     ]
    }
   ],
   "source": [
    "import anago\n",
    "from anago.reader import load_data_and_labels, load_glove\n",
    "from os.path import join"
   ]
  },
  {
   "cell_type": "code",
   "execution_count": 3,
   "metadata": {},
   "outputs": [],
   "source": [
    "x_train, y_train = load_data_and_labels(join(\"..\", \"data\",\"train.txt\"))\n",
    "x_valid, y_valid = load_data_and_labels(join(\"..\", \"data\",\"valid.txt\"))\n",
    "x_test, y_test = load_data_and_labels(join(\"..\", \"data\",\"test.txt\"))"
   ]
  },
  {
   "cell_type": "markdown",
   "metadata": {},
   "source": [
    "[Glove embeddings](https://nlp.stanford.edu/projects/glove/) must be present in the working directory."
   ]
  },
  {
   "cell_type": "code",
   "execution_count": 10,
   "metadata": {},
   "outputs": [],
   "source": [
    "embeddings = load_glove(\"glove.6B.300d.txt\")"
   ]
  },
  {
   "cell_type": "code",
   "execution_count": 18,
   "metadata": {},
   "outputs": [
    {
     "name": "stdout",
     "output_type": "stream",
     "text": [
      "Epoch 1/30\n",
      "220/220 [==============================] - 127s 577ms/step - loss: 77.8690\n",
      " - f1: 84.26\n",
      "Epoch 2/30\n",
      "220/220 [==============================] - 125s 569ms/step - loss: 74.4582\n",
      " - f1: 88.29\n",
      "Epoch 3/30\n",
      "220/220 [==============================] - 125s 570ms/step - loss: 74.7095\n",
      " - f1: 88.86\n",
      "Epoch 4/30\n",
      "220/220 [==============================] - 125s 566ms/step - loss: 74.1564\n",
      " - f1: 89.89\n",
      "Epoch 5/30\n",
      "220/220 [==============================] - 124s 566ms/step - loss: 73.7227\n",
      " - f1: 91.31\n",
      "Epoch 6/30\n",
      "220/220 [==============================] - 125s 568ms/step - loss: 73.8533\n",
      " - f1: 91.64\n",
      "Epoch 7/30\n",
      "220/220 [==============================] - 124s 564ms/step - loss: 73.1805\n",
      " - f1: 91.46\n",
      "Epoch 8/30\n",
      "220/220 [==============================] - 125s 570ms/step - loss: 73.8795\n",
      " - f1: 91.25\n",
      "Epoch 9/30\n",
      "220/220 [==============================] - 126s 571ms/step - loss: 74.1892\n",
      " - f1: 91.53\n",
      "Epoch 10/30\n",
      "220/220 [==============================] - 125s 566ms/step - loss: 73.5806\n",
      " - f1: 91.27\n",
      "Epoch 11/30\n",
      "220/220 [==============================] - 125s 567ms/step - loss: 73.7542\n",
      " - f1: 91.48\n",
      "Epoch 12/30\n",
      "220/220 [==============================] - 125s 568ms/step - loss: 73.6959\n",
      " - f1: 91.86\n",
      "Epoch 13/30\n",
      "220/220 [==============================] - 124s 565ms/step - loss: 73.5159\n",
      " - f1: 91.67\n",
      "Epoch 14/30\n",
      "220/220 [==============================] - 124s 566ms/step - loss: 73.9762\n",
      " - f1: 90.81\n",
      "Epoch 15/30\n",
      "220/220 [==============================] - 125s 568ms/step - loss: 73.2742\n",
      " - f1: 91.24\n",
      "Epoch 16/30\n",
      "220/220 [==============================] - 125s 566ms/step - loss: 73.7104\n",
      " - f1: 92.20\n",
      "Epoch 17/30\n",
      "220/220 [==============================] - 124s 564ms/step - loss: 73.2096\n",
      " - f1: 90.66\n",
      "Epoch 18/30\n",
      "220/220 [==============================] - 125s 566ms/step - loss: 73.4285\n",
      " - f1: 91.10\n",
      "Epoch 19/30\n",
      "220/220 [==============================] - 125s 567ms/step - loss: 73.7160\n",
      " - f1: 91.47\n",
      "Epoch 20/30\n",
      "220/220 [==============================] - 125s 570ms/step - loss: 73.9494\n",
      " - f1: 91.49\n",
      "Epoch 21/30\n",
      "220/220 [==============================] - 125s 570ms/step - loss: 74.3352\n",
      " - f1: 91.38\n",
      "Epoch 22/30\n",
      "220/220 [==============================] - 124s 565ms/step - loss: 73.3028\n",
      " - f1: 91.88\n",
      "Epoch 23/30\n",
      "220/220 [==============================] - 124s 563ms/step - loss: 72.5137\n",
      " - f1: 92.12\n",
      "Epoch 24/30\n",
      "220/220 [==============================] - 125s 570ms/step - loss: 73.6406\n",
      " - f1: 91.99\n",
      "Epoch 25/30\n",
      "220/220 [==============================] - 125s 568ms/step - loss: 73.1124\n",
      " - f1: 91.82\n",
      "Epoch 26/30\n",
      "220/220 [==============================] - 127s 576ms/step - loss: 73.9979\n",
      " - f1: 90.88\n",
      "Epoch 27/30\n",
      "220/220 [==============================] - 127s 576ms/step - loss: 73.4466\n",
      " - f1: 92.57\n",
      "Epoch 28/30\n",
      "220/220 [==============================] - 127s 576ms/step - loss: 73.3727\n",
      " - f1: 91.95\n",
      "Epoch 29/30\n",
      "220/220 [==============================] - 127s 577ms/step - loss: 73.4213\n",
      " - f1: 91.98\n",
      "Epoch 30/30\n",
      "220/220 [==============================] - 127s 577ms/step - loss: 73.7643\n",
      " - f1: 91.44\n"
     ]
    }
   ],
   "source": [
    "model = anago.Sequence(char_emb_size=25, word_emb_size=300,\n",
    "                       char_lstm_units=25, word_lstm_units=300,\n",
    "                       batch_size=64, max_epoch=30, early_stopping=False, \n",
    "                       log_dir=\"log\", train_embeddings=True, embeddings=embeddings)\n",
    "model.train(x_train, y_train, x_valid, y_valid)"
   ]
  },
  {
   "cell_type": "code",
   "execution_count": 19,
   "metadata": {},
   "outputs": [
    {
     "name": "stdout",
     "output_type": "stream",
     "text": [
      " - f1: 86.29\n"
     ]
    }
   ],
   "source": [
    "model.eval(x_test, y_test)"
   ]
  }
 ],
 "metadata": {
  "kernelspec": {
   "display_name": "Python 3",
   "language": "python",
   "name": "python3"
  },
  "language_info": {
   "codemirror_mode": {
    "name": "ipython",
    "version": 3
   },
   "file_extension": ".py",
   "mimetype": "text/x-python",
   "name": "python",
   "nbconvert_exporter": "python",
   "pygments_lexer": "ipython3",
   "version": "3.6.4"
  }
 },
 "nbformat": 4,
 "nbformat_minor": 2
}
